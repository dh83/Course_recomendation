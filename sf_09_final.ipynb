{
 "cells": [
  {
   "cell_type": "markdown",
   "metadata": {},
   "source": [
    "# ЦЕЛЬ\n",
    "### Подготовить основу рекомендательной системы."
   ]
  },
  {
   "cell_type": "markdown",
   "metadata": {},
   "source": [
    "## ЗАДАЧИ:\n",
    "\n",
    "1. Определить по какому сценарию будет осуществляться рекомендация курсов.\n",
    "2. Подготовить данные по проданным курсам в разрезе пользователей (с помощью SQL).\n",
    "3. Анализ данных. \n",
    "4. Определение рекомендаций и критериев.\n",
    "5. Составление итоговой таблицы с рекомендациями."
   ]
  },
  {
   "cell_type": "markdown",
   "metadata": {},
   "source": [
    "### 1. Определим по какому сценарию будет осуществляться рекомендация курсов."
   ]
  },
  {
   "cell_type": "markdown",
   "metadata": {},
   "source": [
    "Найдем все варианты приобретенных пар курсов. Оставим для рекомендации наиболее популярные для каждого курса и преодоливающие определенный порог по частоте продаж.\n",
    "\n",
    "Осталось решить, что рекомендовать в остальных случаях: когда курс не пользуется большим спросом у покупателей купивших 2+ курса или курс перестал быть актуальным.<br>\n",
    "У неактуальных не будет продаж за последние месяцы - полгода, а у непопулярных курсов не будет большой истории по парам продаж (низкая частота их покупок).\n",
    "\n",
    "Варианты:\n",
    "1. Самые популярные за весь наблюдаемый период. <br>\n",
    "-- Среди них могут быть те, что уже не актуальны = нулевые продажи. <br>\n",
    "2. Самые новые.<br>\n",
    "-- Курс может быть узкоспециализирован и не подойдёт абсолютному большинству = низкие продажи.\n",
    "3. Самые популярные за последние полгода рассматриваемого периода.<br>\n",
    "++ Получим только актуальные и массовые курсы, и у новых курсов есть шанс пробиться в топ выборки.\n",
    "\n",
    "Остановимся на третьем варианте.\n",
    "\n",
    "Следовательно, кроме курсов в разрезе пользователей, купивших более одного курса, добавляем еще признак месяца покупки курса в запросе."
   ]
  },
  {
   "cell_type": "markdown",
   "metadata": {},
   "source": [
    "### 2. Подготовка данных по проданным курсам в разрезе пользователей"
   ]
  },
  {
   "cell_type": "code",
   "execution_count": 1,
   "metadata": {},
   "outputs": [],
   "source": [
    "# установим необходимые библиотеки\n",
    "import psycopg2.extras\n",
    "import pandas as pd\n",
    "import numpy as np\n",
    "import itertools \n",
    "from collections import Counter\n"
   ]
  },
  {
   "cell_type": "code",
   "execution_count": 2,
   "metadata": {},
   "outputs": [],
   "source": [
    "# выполним SQL запрос на выемку интересующих данных\n",
    "def getBuyersMultipleCourse():\n",
    "    query = '''\n",
    "WITH  dataset AS\n",
    "      /* формируем CTE, содержащую пользователей оплативших курсы */\n",
    "      (SELECT DISTINCT user_id, \n",
    "              resource_id as course_id,  -- сразу переименуем столбец для удобства \n",
    "              MIN(DATE_TRUNC('month', purchased_at)::date) AS purchase_date -- используем MIN, чтобы избавится от дублей покупок пользователя\n",
    "         FROM final.carts \n",
    "        INNER JOIN final.cart_items ON carts.id = cart_items.cart_id\n",
    "        WHERE state = 'successful'  -- только покупки\n",
    "          AND resource_type = 'Course'  -- только курсы\n",
    "        GROUP BY 1, 2)\n",
    "\n",
    "SELECT user_id, \n",
    "       course_id,  \n",
    "       purchase_date\n",
    "  FROM dataset\n",
    " WHERE user_id IN  -- фильтр по списку \"квалифицированных\" покупателей\n",
    "        (/* из CTE получаем список пользователей с 2-мя и более покупками курсов */\n",
    "        SELECT user_id\n",
    "          FROM dataset\n",
    "         GROUP BY user_id\n",
    "        HAVING count(distinct course_id) > 1)\n",
    " ORDER BY 1, 2\n",
    "    '''.format()\n",
    "    conn = psycopg2.connect(\n",
    "        \"dbname='skillfactory' user='skillfactory' host='84.201.134.129' password='cCkxxLVrDE8EbvjueeMedPKt' port=5432\")\n",
    "    dict_cur = conn.cursor(cursor_factory=psycopg2.extras.DictCursor)\n",
    "    dict_cur.execute(query)\n",
    "    rows = dict_cur.fetchall()\n",
    "    data = []\n",
    "    for row in rows:\n",
    "        data.append(dict(row))\n",
    "    return data\n",
    "\n",
    "\n",
    "# выполняем функцию запроса и записываем полученные данные в датафрейм\n",
    "df = pd.DataFrame(getBuyersMultipleCourse())\n",
    "\n",
    "# Внимание: Если в ходе выполнения возникло сообщение об ошибке,\n",
    "# то повторите выполнение ячейки через несколько секунд: бывают неполадки с подключением к серверу.\n"
   ]
  },
  {
   "cell_type": "markdown",
   "metadata": {},
   "source": [
    "### 3. Анализ данных"
   ]
  },
  {
   "cell_type": "code",
   "execution_count": 3,
   "metadata": {},
   "outputs": [
    {
     "data": {
      "text/html": [
       "<div>\n",
       "<style scoped>\n",
       "    .dataframe tbody tr th:only-of-type {\n",
       "        vertical-align: middle;\n",
       "    }\n",
       "\n",
       "    .dataframe tbody tr th {\n",
       "        vertical-align: top;\n",
       "    }\n",
       "\n",
       "    .dataframe thead th {\n",
       "        text-align: right;\n",
       "    }\n",
       "</style>\n",
       "<table border=\"1\" class=\"dataframe\">\n",
       "  <thead>\n",
       "    <tr style=\"text-align: right;\">\n",
       "      <th></th>\n",
       "      <th>user_id</th>\n",
       "      <th>course_id</th>\n",
       "      <th>purchase_date</th>\n",
       "    </tr>\n",
       "  </thead>\n",
       "  <tbody>\n",
       "    <tr>\n",
       "      <th>0</th>\n",
       "      <td>51</td>\n",
       "      <td>516</td>\n",
       "      <td>2017-01-01</td>\n",
       "    </tr>\n",
       "    <tr>\n",
       "      <th>1</th>\n",
       "      <td>51</td>\n",
       "      <td>1099</td>\n",
       "      <td>2018-06-01</td>\n",
       "    </tr>\n",
       "    <tr>\n",
       "      <th>2</th>\n",
       "      <td>6117</td>\n",
       "      <td>356</td>\n",
       "      <td>2017-06-01</td>\n",
       "    </tr>\n",
       "    <tr>\n",
       "      <th>3</th>\n",
       "      <td>6117</td>\n",
       "      <td>357</td>\n",
       "      <td>2017-06-01</td>\n",
       "    </tr>\n",
       "    <tr>\n",
       "      <th>4</th>\n",
       "      <td>6117</td>\n",
       "      <td>1125</td>\n",
       "      <td>2018-08-01</td>\n",
       "    </tr>\n",
       "  </tbody>\n",
       "</table>\n",
       "</div>"
      ],
      "text/plain": [
       "   user_id  course_id purchase_date\n",
       "0       51        516    2017-01-01\n",
       "1       51       1099    2018-06-01\n",
       "2     6117        356    2017-06-01\n",
       "3     6117        357    2017-06-01\n",
       "4     6117       1125    2018-08-01"
      ]
     },
     "execution_count": 3,
     "metadata": {},
     "output_type": "execute_result"
    }
   ],
   "source": [
    "df.head()  # выведем первые 5 строк\n"
   ]
  },
  {
   "cell_type": "code",
   "execution_count": 4,
   "metadata": {},
   "outputs": [
    {
     "name": "stdout",
     "output_type": "stream",
     "text": [
      "<class 'pandas.core.frame.DataFrame'>\n",
      "RangeIndex: 34074 entries, 0 to 34073\n",
      "Data columns (total 3 columns):\n",
      " #   Column         Non-Null Count  Dtype \n",
      "---  ------         --------------  ----- \n",
      " 0   user_id        34074 non-null  int64 \n",
      " 1   course_id      34074 non-null  int64 \n",
      " 2   purchase_date  34074 non-null  object\n",
      "dtypes: int64(2), object(1)\n",
      "memory usage: 798.7+ KB\n"
     ]
    }
   ],
   "source": [
    "# Смотрим информацию о датафрейме\n",
    "df.info()"
   ]
  },
  {
   "cell_type": "markdown",
   "metadata": {},
   "source": [
    "В датасете всего 34 074 строк. <br>\n",
    "Пропущенные значения отсутствуют. <br>\n",
    "DISTINCT в базовом CTE гарантирует отсутствие дубликатов в итоговом запросе.\n",
    "\n",
    "Столбец 'purchase_date' имеет типа данных object, необходимо привести его к типу данных datetime для дальнейшей корректной работы с ним."
   ]
  },
  {
   "cell_type": "code",
   "execution_count": 5,
   "metadata": {},
   "outputs": [],
   "source": [
    "df['purchase_date'] = pd.to_datetime(df['purchase_date'], format='%Y-%m-%d')\n"
   ]
  },
  {
   "cell_type": "markdown",
   "metadata": {},
   "source": [
    "### 4. Определение рекомендаций и критериев."
   ]
  },
  {
   "cell_type": "markdown",
   "metadata": {},
   "source": [
    "Найдем топ-2 курсов по продажам за последние полгода рассматриваемого периода."
   ]
  },
  {
   "cell_type": "code",
   "execution_count": 6,
   "metadata": {},
   "outputs": [
    {
     "data": {
      "text/html": [
       "<div>\n",
       "<style scoped>\n",
       "    .dataframe tbody tr th:only-of-type {\n",
       "        vertical-align: middle;\n",
       "    }\n",
       "\n",
       "    .dataframe tbody tr th {\n",
       "        vertical-align: top;\n",
       "    }\n",
       "\n",
       "    .dataframe thead th {\n",
       "        text-align: right;\n",
       "    }\n",
       "</style>\n",
       "<table border=\"1\" class=\"dataframe\">\n",
       "  <thead>\n",
       "    <tr style=\"text-align: right;\">\n",
       "      <th></th>\n",
       "      <th>course_id</th>\n",
       "      <th>count</th>\n",
       "    </tr>\n",
       "  </thead>\n",
       "  <tbody>\n",
       "    <tr>\n",
       "      <th>0</th>\n",
       "      <td>566</td>\n",
       "      <td>551</td>\n",
       "    </tr>\n",
       "    <tr>\n",
       "      <th>1</th>\n",
       "      <td>840</td>\n",
       "      <td>380</td>\n",
       "    </tr>\n",
       "    <tr>\n",
       "      <th>2</th>\n",
       "      <td>1103</td>\n",
       "      <td>359</td>\n",
       "    </tr>\n",
       "    <tr>\n",
       "      <th>3</th>\n",
       "      <td>1125</td>\n",
       "      <td>353</td>\n",
       "    </tr>\n",
       "    <tr>\n",
       "      <th>4</th>\n",
       "      <td>794</td>\n",
       "      <td>330</td>\n",
       "    </tr>\n",
       "  </tbody>\n",
       "</table>\n",
       "</div>"
      ],
      "text/plain": [
       "   course_id  count\n",
       "0        566    551\n",
       "1        840    380\n",
       "2       1103    359\n",
       "3       1125    353\n",
       "4        794    330"
      ]
     },
     "execution_count": 6,
     "metadata": {},
     "output_type": "execute_result"
    }
   ],
   "source": [
    "# Создадим отдельный датафрейм (исходный еще пригодится) \n",
    "# и перенесём в него записи продаж за последние полгода\n",
    "df2 = df[df['purchase_date'] >= '2018-07-01']\n",
    "\n",
    "# подсчитываем кол-во продаж по курсам\n",
    "top_course = df2.groupby('course_id')['purchase_date'].count().reset_index()\n",
    "# переименуем столбец\n",
    "top_course.rename(columns={'purchase_date': 'count'}, inplace=True)\n",
    "# отсортируем по убыванию\n",
    "top_course = top_course.sort_values(\n",
    "    by='count', ascending=False).reset_index(drop=True)\n",
    "top_course.head()\n"
   ]
  },
  {
   "cell_type": "markdown",
   "metadata": {},
   "source": [
    "Определены id курсов для рекомендаций, в случае отсутствия таковых используем 566 и 840."
   ]
  },
  {
   "cell_type": "markdown",
   "metadata": {},
   "source": [
    "Создаём рекомендации курсов на основе предыдущих покупок.\n",
    "\n",
    "Для этого необходимо определить частоты всех пар курсов приобретенных среди пользователей.\n",
    "\n",
    "Сперва сгруппируем курсы по пользователям в новый датафрейм."
   ]
  },
  {
   "cell_type": "code",
   "execution_count": 7,
   "metadata": {},
   "outputs": [
    {
     "data": {
      "text/html": [
       "<div>\n",
       "<style scoped>\n",
       "    .dataframe tbody tr th:only-of-type {\n",
       "        vertical-align: middle;\n",
       "    }\n",
       "\n",
       "    .dataframe tbody tr th {\n",
       "        vertical-align: top;\n",
       "    }\n",
       "\n",
       "    .dataframe thead th {\n",
       "        text-align: right;\n",
       "    }\n",
       "</style>\n",
       "<table border=\"1\" class=\"dataframe\">\n",
       "  <thead>\n",
       "    <tr style=\"text-align: right;\">\n",
       "      <th></th>\n",
       "      <th>user_id</th>\n",
       "      <th>course_id</th>\n",
       "    </tr>\n",
       "  </thead>\n",
       "  <tbody>\n",
       "    <tr>\n",
       "      <th>0</th>\n",
       "      <td>51</td>\n",
       "      <td>[516, 1099]</td>\n",
       "    </tr>\n",
       "    <tr>\n",
       "      <th>1</th>\n",
       "      <td>6117</td>\n",
       "      <td>[356, 357, 1125]</td>\n",
       "    </tr>\n",
       "    <tr>\n",
       "      <th>2</th>\n",
       "      <td>10275</td>\n",
       "      <td>[553, 1147]</td>\n",
       "    </tr>\n",
       "    <tr>\n",
       "      <th>3</th>\n",
       "      <td>10457</td>\n",
       "      <td>[361, 1138]</td>\n",
       "    </tr>\n",
       "    <tr>\n",
       "      <th>4</th>\n",
       "      <td>17166</td>\n",
       "      <td>[356, 357]</td>\n",
       "    </tr>\n",
       "    <tr>\n",
       "      <th>...</th>\n",
       "      <td>...</td>\n",
       "      <td>...</td>\n",
       "    </tr>\n",
       "    <tr>\n",
       "      <th>12651</th>\n",
       "      <td>2179430</td>\n",
       "      <td>[566, 750]</td>\n",
       "    </tr>\n",
       "    <tr>\n",
       "      <th>12652</th>\n",
       "      <td>2186581</td>\n",
       "      <td>[794, 864, 1129]</td>\n",
       "    </tr>\n",
       "    <tr>\n",
       "      <th>12653</th>\n",
       "      <td>2187601</td>\n",
       "      <td>[356, 553, 571, 765, 912]</td>\n",
       "    </tr>\n",
       "    <tr>\n",
       "      <th>12654</th>\n",
       "      <td>2188926</td>\n",
       "      <td>[515, 743]</td>\n",
       "    </tr>\n",
       "    <tr>\n",
       "      <th>12655</th>\n",
       "      <td>2190141</td>\n",
       "      <td>[756, 794, 1185]</td>\n",
       "    </tr>\n",
       "  </tbody>\n",
       "</table>\n",
       "<p>12656 rows × 2 columns</p>\n",
       "</div>"
      ],
      "text/plain": [
       "       user_id                  course_id\n",
       "0           51                [516, 1099]\n",
       "1         6117           [356, 357, 1125]\n",
       "2        10275                [553, 1147]\n",
       "3        10457                [361, 1138]\n",
       "4        17166                 [356, 357]\n",
       "...        ...                        ...\n",
       "12651  2179430                 [566, 750]\n",
       "12652  2186581           [794, 864, 1129]\n",
       "12653  2187601  [356, 553, 571, 765, 912]\n",
       "12654  2188926                 [515, 743]\n",
       "12655  2190141           [756, 794, 1185]\n",
       "\n",
       "[12656 rows x 2 columns]"
      ]
     },
     "execution_count": 7,
     "metadata": {},
     "output_type": "execute_result"
    }
   ],
   "source": [
    "# С помощью метода np.unique получим уникальные и отсортированные по возрастанию значения курсов.\n",
    "group_df = df.groupby('user_id')['course_id'].apply(lambda x:list(np.unique(x))).reset_index()\n",
    "group_df"
   ]
  },
  {
   "cell_type": "markdown",
   "metadata": {},
   "source": [
    "Найдём все возможные комбинации пар курсов приобретенных пользователями."
   ]
  },
  {
   "cell_type": "code",
   "execution_count": 8,
   "metadata": {},
   "outputs": [
    {
     "data": {
      "text/plain": [
       "[(516, 1099), (356, 357), (356, 1125), (357, 1125), (553, 1147)]"
      ]
     },
     "execution_count": 8,
     "metadata": {},
     "output_type": "execute_result"
    }
   ],
   "source": [
    "# используем цикл с функцией Combinations из библиотеки Itertools.\n",
    "list_courses = list()\n",
    "for course in group_df['course_id']:\n",
    "    # проходим по перечню курсов каждого клиента, формируя из них все возможные комбинации пар\n",
    "    for x in itertools.combinations(course, 2):  \n",
    "        list_courses.append(x)  # добавляем пары в список\n",
    "\n",
    "list_courses[0:5]\n"
   ]
  },
  {
   "cell_type": "markdown",
   "metadata": {},
   "source": [
    "С помощью счетчика Counter из библиотеки collections создаём словарь, в котором ключи - пары курсов, значения - их частота. "
   ]
  },
  {
   "cell_type": "code",
   "execution_count": 9,
   "metadata": {},
   "outputs": [
    {
     "name": "stdout",
     "output_type": "stream",
     "text": [
      "Количество уникальных пар курсов в покупках клиентов: 3989\n",
      "Топ-5 пар курсов: \n",
      " [((551, 566), 797), ((515, 551), 417), ((489, 551), 311), ((523, 551), 304), ((566, 794), 290)]\n"
     ]
    }
   ],
   "source": [
    "uniq_pairs_courses = Counter(list_courses)  # создаёт словарь: ключи - пары курсов, значения - их количество\n",
    "print(\"Количество уникальных пар курсов в покупках клиентов:\", len(uniq_pairs_courses))\n",
    "\n",
    "# Сортируем словарь по уменьшению количества покупок\n",
    "sorted_pairs = dict(uniq_pairs_courses.most_common())\n",
    "# Посмотрим наиболее популярные пары курсов\n",
    "top_pairs = list(sorted_pairs.items())[:5]\n",
    "print(f'Топ-5 пар курсов: \\n {top_pairs}')"
   ]
  },
  {
   "cell_type": "markdown",
   "metadata": {},
   "source": [
    "В каждой из четырех наиболее частотных пар курсов есть id 551. <br>\n",
    "Однако, данного id нет среди топ-5 курсов за последние полгода.<br>\n",
    "Присмотримся к нему.\n"
   ]
  },
  {
   "cell_type": "code",
   "execution_count": 10,
   "metadata": {},
   "outputs": [
    {
     "data": {
      "text/html": [
       "<div>\n",
       "<style scoped>\n",
       "    .dataframe tbody tr th:only-of-type {\n",
       "        vertical-align: middle;\n",
       "    }\n",
       "\n",
       "    .dataframe tbody tr th {\n",
       "        vertical-align: top;\n",
       "    }\n",
       "\n",
       "    .dataframe thead th {\n",
       "        text-align: right;\n",
       "    }\n",
       "</style>\n",
       "<table border=\"1\" class=\"dataframe\">\n",
       "  <thead>\n",
       "    <tr style=\"text-align: right;\">\n",
       "      <th></th>\n",
       "      <th>course_id</th>\n",
       "      <th>count</th>\n",
       "    </tr>\n",
       "  </thead>\n",
       "  <tbody>\n",
       "    <tr>\n",
       "      <th>117</th>\n",
       "      <td>551</td>\n",
       "      <td>2</td>\n",
       "    </tr>\n",
       "  </tbody>\n",
       "</table>\n",
       "</div>"
      ],
      "text/plain": [
       "     course_id  count\n",
       "117        551      2"
      ]
     },
     "execution_count": 10,
     "metadata": {},
     "output_type": "execute_result"
    }
   ],
   "source": [
    "c551 = top_course[top_course.course_id == 551]\n",
    "c551"
   ]
  },
  {
   "cell_type": "markdown",
   "metadata": {},
   "source": [
    "Он на 117 месте по продажам курсов за последние полгода, всего с двумя покупками. \n",
    "\n",
    "Самый популярный курс за всё время оказался неактуальным в последние полгода минимум, либо был переработан и сменил id. <br> \n",
    "(следует уточнить у владеющего информацией сотрудника, но за неимением такой возможности ...)\n",
    "\n",
    "В любом из этих вариантов советовать данный курс уже не имеет смысла. Поэтому убираем его из дальнейших рекомендаций, меняя значения с курсом 551 на 0, чтобы подбор осуществлялся среди актуальных курсов.\n",
    "А при отсутствии таковых, будем использовать наиболее популярные среди актуальных (id 566 или 840).\n"
   ]
  },
  {
   "cell_type": "code",
   "execution_count": 11,
   "metadata": {},
   "outputs": [
    {
     "data": {
      "text/plain": [
       "[((551, 566), 0),\n",
       " ((515, 551), 0),\n",
       " ((489, 551), 0),\n",
       " ((523, 551), 0),\n",
       " ((566, 794), 290)]"
      ]
     },
     "execution_count": 11,
     "metadata": {},
     "output_type": "execute_result"
    }
   ],
   "source": [
    "for i in sorted_pairs:  # проходим по элементам словаря\n",
    "    for k in sorted_pairs.keys():  # проверяем в ключе наличие курса 551\n",
    "        if k[0] == 551 or k[1] == 551:  # если имеется\n",
    "            sorted_pairs.update({k:0})  # обнуляем значение пары\n",
    "        \n",
    "# проверим результат \n",
    "list(sorted_pairs.items())[:5]"
   ]
  },
  {
   "cell_type": "markdown",
   "metadata": {},
   "source": [
    "### Выбор минимальной границы для частотности рекомендаций. \n",
    "\n",
    "Определим условную границу встречаемости пар как достаточную, чтобы считать сложившиеся пары взаимосвязанными (покупка в такой паре не была случайной). \n",
    "Для этого используем процентиль 75."
   ]
  },
  {
   "cell_type": "code",
   "execution_count": 12,
   "metadata": {},
   "outputs": [
    {
     "name": "stdout",
     "output_type": "stream",
     "text": [
      "75 процентиль соответствует частоте покупок в: 8.0\n"
     ]
    }
   ],
   "source": [
    "percentile_score = np.percentile(list(sorted_pairs.values()), 75)  \n",
    "print(f\"75 процентиль соответствует частоте покупок в: {percentile_score}\")\n"
   ]
  },
  {
   "cell_type": "markdown",
   "metadata": {},
   "source": [
    "Частоту пар курсов ниже 8 не будем учитывать. \n"
   ]
  },
  {
   "cell_type": "markdown",
   "metadata": {},
   "source": [
    "### 5. Составление итоговой таблицы с рекомендациями."
   ]
  },
  {
   "cell_type": "markdown",
   "metadata": {},
   "source": [
    "У нас есть словарь из сложившихся пар курсов и их частоты, а так же границе, ниже которой их не учитываем как рекомендацию.<br>\n",
    "Применим эту информацию для формирования первичных рекомендаций."
   ]
  },
  {
   "cell_type": "code",
   "execution_count": 13,
   "metadata": {},
   "outputs": [],
   "source": [
    "def recommend(course):\n",
    "    list = []  # создаём пустой список\n",
    "    for i in sorted_pairs.keys():  # проходим по ключам словаря\n",
    "        if i[0] == course and sorted_pairs[i] > 7:  # если id курса идёт первым в паре курсов\n",
    "            # добавляем в созданный список саму пару и её значение\n",
    "            list.append((i[0], i[1], sorted_pairs[i]))\n",
    "        if i[1] == course and sorted_pairs[i] > 7:  # если id курса идёт вторым в паре курсов\n",
    "            # добавляем в созданный список саму пару и её значение\n",
    "            list.append((i[1], i[0], sorted_pairs[i]))\n",
    "    # сортируем найденные пары по значению в убывающем порядке\n",
    "    sorted_course_list = sorted(list, key=lambda x: x[2], reverse = True)\n",
    "    return sorted_course_list[:2]  # оставляем топ-2 пары, если такие были получены\n"
   ]
  },
  {
   "cell_type": "code",
   "execution_count": 14,
   "metadata": {},
   "outputs": [
    {
     "data": {
      "text/plain": [
       "[(757, 566, 48), (757, 490, 34)]"
      ]
     },
     "execution_count": 14,
     "metadata": {},
     "output_type": "execute_result"
    }
   ],
   "source": [
    "# пример выполнении функции по подбору наиболее частых пар для определенного курса\n",
    "recommend(757)"
   ]
  },
  {
   "cell_type": "markdown",
   "metadata": {},
   "source": [
    "Посмотрим сколько пропусков значений на данном этапе:"
   ]
  },
  {
   "cell_type": "code",
   "execution_count": 15,
   "metadata": {},
   "outputs": [
    {
     "name": "stdout",
     "output_type": "stream",
     "text": [
      "Количество курсов без одной рекомендации: 5\n",
      "Количество курсов без двух рекомендаций: 21\n"
     ]
    }
   ],
   "source": [
    "# Создадим список из id курсов и отсортируем его для дальнейшего перебора значений\n",
    "list_course_id = df['course_id'].sort_values().unique()\n",
    "\n",
    "# Посчитаем у скольких курсов отсутсвуют обе рекомендации (частота пар была менее 5-ти раз):\n",
    "missing_1 = 0\n",
    "missing_2 = 0\n",
    "for i in list_course_id:\n",
    "    if len(recommend(i)) == 0:\n",
    "        missing_2 += 1\n",
    "    elif len(recommend(i)) == 1:\n",
    "        missing_1 += 1\n",
    "print(f\"Количество курсов без одной рекомендации: {missing_1}\")\n",
    "print(f\"Количество курсов без двух рекомендаций: {missing_2}\")\n"
   ]
  },
  {
   "cell_type": "markdown",
   "metadata": {},
   "source": [
    "Пора заполнить эти пробелы, добавиив рекомендации на наиболее популярные за последние полгода наблюдаемого периода курсы (id 566 и 840).\n",
    "\n",
    "Если уполномоченное лицо решит изменить выбор курсов на другой, то для этого достаточно поменять значение переменных rec1 и rec2 в коде ниже.<br>"
   ]
  },
  {
   "cell_type": "code",
   "execution_count": 16,
   "metadata": {},
   "outputs": [
    {
     "data": {
      "text/html": [
       "<div>\n",
       "<style scoped>\n",
       "    .dataframe tbody tr th:only-of-type {\n",
       "        vertical-align: middle;\n",
       "    }\n",
       "\n",
       "    .dataframe tbody tr th {\n",
       "        vertical-align: top;\n",
       "    }\n",
       "\n",
       "    .dataframe thead th {\n",
       "        text-align: right;\n",
       "    }\n",
       "</style>\n",
       "<table border=\"1\" class=\"dataframe\">\n",
       "  <thead>\n",
       "    <tr style=\"text-align: right;\">\n",
       "      <th>Basic_course</th>\n",
       "      <th>Recommendation 1</th>\n",
       "      <th>Recommendation 2</th>\n",
       "    </tr>\n",
       "  </thead>\n",
       "  <tbody>\n",
       "    <tr>\n",
       "      <th>356</th>\n",
       "      <td>571</td>\n",
       "      <td>357</td>\n",
       "    </tr>\n",
       "    <tr>\n",
       "      <th>357</th>\n",
       "      <td>571</td>\n",
       "      <td>356</td>\n",
       "    </tr>\n",
       "    <tr>\n",
       "      <th>358</th>\n",
       "      <td>570</td>\n",
       "      <td>752</td>\n",
       "    </tr>\n",
       "    <tr>\n",
       "      <th>359</th>\n",
       "      <td>570</td>\n",
       "      <td>358</td>\n",
       "    </tr>\n",
       "    <tr>\n",
       "      <th>360</th>\n",
       "      <td>745</td>\n",
       "      <td>516</td>\n",
       "    </tr>\n",
       "    <tr>\n",
       "      <th>...</th>\n",
       "      <td>...</td>\n",
       "      <td>...</td>\n",
       "    </tr>\n",
       "    <tr>\n",
       "      <th>1188</th>\n",
       "      <td>1141</td>\n",
       "      <td>513</td>\n",
       "    </tr>\n",
       "    <tr>\n",
       "      <th>1198</th>\n",
       "      <td>566</td>\n",
       "      <td>840</td>\n",
       "    </tr>\n",
       "    <tr>\n",
       "      <th>1199</th>\n",
       "      <td>566</td>\n",
       "      <td>840</td>\n",
       "    </tr>\n",
       "    <tr>\n",
       "      <th>1200</th>\n",
       "      <td>566</td>\n",
       "      <td>840</td>\n",
       "    </tr>\n",
       "    <tr>\n",
       "      <th>1201</th>\n",
       "      <td>566</td>\n",
       "      <td>840</td>\n",
       "    </tr>\n",
       "  </tbody>\n",
       "</table>\n",
       "<p>126 rows × 2 columns</p>\n",
       "</div>"
      ],
      "text/plain": [
       "Basic_course  Recommendation 1  Recommendation 2\n",
       "356                        571               357\n",
       "357                        571               356\n",
       "358                        570               752\n",
       "359                        570               358\n",
       "360                        745               516\n",
       "...                        ...               ...\n",
       "1188                      1141               513\n",
       "1198                       566               840\n",
       "1199                       566               840\n",
       "1200                       566               840\n",
       "1201                       566               840\n",
       "\n",
       "[126 rows x 2 columns]"
      ]
     },
     "metadata": {},
     "output_type": "display_data"
    }
   ],
   "source": [
    "# создаём датафрейм под таблицу с рекомендациями\n",
    "recommend_df = pd.DataFrame(columns = ['Recommendation 1', 'Recommendation 2']) \n",
    "# Присваиваем переменным значения топ-2 курсов по продажам за полгода. \n",
    "rec1 = 566\n",
    "rec2 = 840\n",
    "\n",
    "for i in list_course_id:\n",
    "    if len(recommend(i)) == 2:  # применяем функцию и если выдаёт 2 рекомендации для курса\n",
    "        recommend_df.loc[i] = [recommend(i)[0][1], recommend(i)[1][1]]  \n",
    "    elif len(recommend(i)) == 1 and recommend(i) == rec1:\n",
    "        # в случае только с одной рекомендацией из частых пар равной 566 (rec1)\n",
    "        # добавляем второй по популярности\n",
    "        recommend_df.loc[i] = [recommend(i)[0][1], rec2]\n",
    "    elif len(recommend(i)) == 1:\n",
    "        # применяем функцию и если выдаёт 1 рекомендацию для курса\n",
    "        # записываем одну рекомендацию из \"частых\" пар + самый популярный курс\n",
    "        recommend_df.loc[i] = [recommend(i)[0][1], rec1]\n",
    "    else:\n",
    "        # остальным - рекомендовать два самый популярных за полгода\n",
    "        recommend_df.loc[i] = [rec1, rec2]\n",
    "\n",
    "recommend_df.columns.names = ['Basic_course']\n",
    "display(recommend_df)\n"
   ]
  },
  {
   "cell_type": "code",
   "execution_count": 17,
   "metadata": {},
   "outputs": [],
   "source": [
    "# Скачать полную таблицу с рекомендациями можно расскоментировав код ниже и запустив ячейку.\n",
    "# recommend_df.to_excel('recommendations.xlsx')"
   ]
  },
  {
   "cell_type": "markdown",
   "metadata": {},
   "source": [
    "======="
   ]
  },
  {
   "cell_type": "markdown",
   "metadata": {},
   "source": [
    "### Выводы"
   ]
  },
  {
   "cell_type": "markdown",
   "metadata": {},
   "source": [
    "1. Таблица рекомендаций составлена с учетом достаточной частоты сложившихся пар курсов (75% наименьших значений было отсеяно; ограничение частоты совместных покупок = 8 раз и более).<br>\n",
    "2. Отсутствующие значения заменены предложенными двумя наиболее популярными курсами за последние полгода рассматриваемого периода (id 566 и 840).<br>\n",
    "3. При необходимости, предложенные курсы можно легко заменить на другие, изменив значение переменных.<br>\n",
    "4. Сценарий \"два наиболее популярных за полгода\" оправдал себя: самый популярный за весь период курс (id 551) оказался неактуальным. В коде реализована его замена для рекомендаций.<br>"
   ]
  }
 ],
 "metadata": {
  "kernelspec": {
   "display_name": "Python 3.9.10 64-bit",
   "language": "python",
   "name": "python3"
  },
  "language_info": {
   "codemirror_mode": {
    "name": "ipython",
    "version": 3
   },
   "file_extension": ".py",
   "mimetype": "text/x-python",
   "name": "python",
   "nbconvert_exporter": "python",
   "pygments_lexer": "ipython3",
   "version": "3.9.10"
  },
  "orig_nbformat": 4,
  "vscode": {
   "interpreter": {
    "hash": "e780a4bec92718300b8abe38a24a6a439a9b58cfd46fc8f133503a7fb7585e0b"
   }
  }
 },
 "nbformat": 4,
 "nbformat_minor": 2
}
